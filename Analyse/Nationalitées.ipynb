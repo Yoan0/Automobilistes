{
 "cells": [
  {
   "cell_type": "code",
   "execution_count": 2,
   "id": "850afb4f-bdbd-4879-8727-6f0940751c26",
   "metadata": {},
   "outputs": [],
   "source": [
    "#dans ce noteboock, j'analyserai la quantité de victoires par pays, \\\n",
    "#comparant ensuite ces résultats avec le niveau économique de chacun de ces pays (tableau externe)\n"
   ]
  },
  {
   "cell_type": "code",
   "execution_count": 27,
   "id": "6284bee1-7174-4aee-820b-0244ee39744d",
   "metadata": {},
   "outputs": [],
   "source": [
    "import pandas as pd\n",
    "import numpy as np\n",
    "import seaborn as sns\n",
    "from scipy.stats import linregress\n",
    "import matplotlib.pyplot as plt\n",
    "import matplotlib.ticker as ticker"
   ]
  },
  {
   "cell_type": "code",
   "execution_count": 28,
   "id": "8c84683b-25aa-4c1d-b45d-f88851b2eb76",
   "metadata": {},
   "outputs": [],
   "source": [
    "import pprint\n",
    "import sqlite3 as sql"
   ]
  },
  {
   "cell_type": "code",
   "execution_count": 29,
   "id": "7d618304-10a4-4e8d-bf5e-1873e75f67d1",
   "metadata": {},
   "outputs": [],
   "source": [
    "cn= sql.connect('C:/Users/Yoan Vicente/Documents/Application methodes/Automobilistes/conducteurs.db')"
   ]
  },
  {
   "cell_type": "code",
   "execution_count": 30,
   "id": "40d093db-29d1-44c9-b150-c101d95c7ab6",
   "metadata": {},
   "outputs": [],
   "source": [
    "cursor = cn.cursor()"
   ]
  },
  {
   "cell_type": "code",
   "execution_count": 31,
   "id": "a942048a-7585-4ecd-a2d9-30a5a520124d",
   "metadata": {},
   "outputs": [
    {
     "data": {
      "text/plain": [
       "<sqlite3.Cursor at 0x226f060bb40>"
      ]
     },
     "execution_count": 31,
     "metadata": {},
     "output_type": "execute_result"
    }
   ],
   "source": [
    "cursor.execute(\"SELECT * FROM Driver\")"
   ]
  },
  {
   "cell_type": "code",
   "execution_count": 68,
   "id": "ef70bc9e-4338-40c4-b78a-fc1e01ca5dc3",
   "metadata": {},
   "outputs": [],
   "source": [
    "query1 = \"\"\"\n",
    "SELECT\n",
    "    Nationality AS Nationality,\n",
    "    SUM(Wins) AS Total_Wins\n",
    "FROM\n",
    "    Driver\n",
    "GROUP BY\n",
    "    Nationality\n",
    "ORDER BY\n",
    "    Total_Wins DESC;\n",
    "\"\"\""
   ]
  },
  {
   "cell_type": "code",
   "execution_count": 71,
   "id": "f1b4ff9e-8fa3-4a32-897b-8ea439f5e456",
   "metadata": {},
   "outputs": [],
   "source": [
    "df = pd.read_sql_query(query1, cn)"
   ]
  },
  {
   "cell_type": "code",
   "execution_count": 34,
   "id": "3e583b41-aeab-4d44-b32b-1e909460d509",
   "metadata": {},
   "outputs": [],
   "source": [
    "gdp= pd.read_csv('C:/Users/Yoan Vicente/Documents/Dossier_python/GDP_per_capita.csv')"
   ]
  },
  {
   "cell_type": "code",
   "execution_count": 35,
   "id": "a0a4bb46-b545-4658-ad7f-1ead26464a75",
   "metadata": {},
   "outputs": [],
   "source": [
    "merged_df= pd.merge(df, gdp, left_on='Nationality', right_on='Country')"
   ]
  },
  {
   "cell_type": "code",
   "execution_count": 50,
   "id": "881aff94-169d-4f2e-b4ad-6b5681f19523",
   "metadata": {},
   "outputs": [
    {
     "data": {
      "text/html": [
       "<div>\n",
       "<style scoped>\n",
       "    .dataframe tbody tr th:only-of-type {\n",
       "        vertical-align: middle;\n",
       "    }\n",
       "\n",
       "    .dataframe tbody tr th {\n",
       "        vertical-align: top;\n",
       "    }\n",
       "\n",
       "    .dataframe thead th {\n",
       "        text-align: right;\n",
       "    }\n",
       "</style>\n",
       "<table border=\"1\" class=\"dataframe\">\n",
       "  <thead>\n",
       "    <tr style=\"text-align: right;\">\n",
       "      <th></th>\n",
       "      <th>Nationality</th>\n",
       "      <th>Total_Wins</th>\n",
       "      <th>Country</th>\n",
       "      <th>GDP_per_capita</th>\n",
       "    </tr>\n",
       "  </thead>\n",
       "  <tbody>\n",
       "    <tr>\n",
       "      <th>0</th>\n",
       "      <td>United Kingdom</td>\n",
       "      <td>309</td>\n",
       "      <td>United Kingdom</td>\n",
       "      <td>52841.634585</td>\n",
       "    </tr>\n",
       "    <tr>\n",
       "      <th>1</th>\n",
       "      <td>Germany</td>\n",
       "      <td>162</td>\n",
       "      <td>Germany</td>\n",
       "      <td>61939.651585</td>\n",
       "    </tr>\n",
       "    <tr>\n",
       "      <th>2</th>\n",
       "      <td>Brazil</td>\n",
       "      <td>87</td>\n",
       "      <td>Brazil</td>\n",
       "      <td>17672.916803</td>\n",
       "    </tr>\n",
       "    <tr>\n",
       "      <th>3</th>\n",
       "      <td>France</td>\n",
       "      <td>81</td>\n",
       "      <td>France</td>\n",
       "      <td>53834.799297</td>\n",
       "    </tr>\n",
       "    <tr>\n",
       "      <th>4</th>\n",
       "      <td>Finland</td>\n",
       "      <td>80</td>\n",
       "      <td>Finland</td>\n",
       "      <td>57788.903458</td>\n",
       "    </tr>\n",
       "    <tr>\n",
       "      <th>5</th>\n",
       "      <td>Belgium</td>\n",
       "      <td>59</td>\n",
       "      <td>Belgium</td>\n",
       "      <td>62123.161317</td>\n",
       "    </tr>\n",
       "    <tr>\n",
       "      <th>6</th>\n",
       "      <td>Chile</td>\n",
       "      <td>54</td>\n",
       "      <td>Chile</td>\n",
       "      <td>29050.080794</td>\n",
       "    </tr>\n",
       "    <tr>\n",
       "      <th>7</th>\n",
       "      <td>Italy</td>\n",
       "      <td>43</td>\n",
       "      <td>Italy</td>\n",
       "      <td>49901.612137</td>\n",
       "    </tr>\n",
       "    <tr>\n",
       "      <th>8</th>\n",
       "      <td>Australia</td>\n",
       "      <td>43</td>\n",
       "      <td>Australia</td>\n",
       "      <td>57406.178760</td>\n",
       "    </tr>\n",
       "    <tr>\n",
       "      <th>9</th>\n",
       "      <td>Argentina</td>\n",
       "      <td>38</td>\n",
       "      <td>Argentina</td>\n",
       "      <td>26086.802355</td>\n",
       "    </tr>\n",
       "    <tr>\n",
       "      <th>10</th>\n",
       "      <td>Austria</td>\n",
       "      <td>35</td>\n",
       "      <td>Austria</td>\n",
       "      <td>63421.203587</td>\n",
       "    </tr>\n",
       "    <tr>\n",
       "      <th>11</th>\n",
       "      <td>Spain</td>\n",
       "      <td>34</td>\n",
       "      <td>Spain</td>\n",
       "      <td>43620.604061</td>\n",
       "    </tr>\n",
       "    <tr>\n",
       "      <th>12</th>\n",
       "      <td>United States</td>\n",
       "      <td>33</td>\n",
       "      <td>United States</td>\n",
       "      <td>71055.876194</td>\n",
       "    </tr>\n",
       "    <tr>\n",
       "      <th>13</th>\n",
       "      <td>Canada</td>\n",
       "      <td>26</td>\n",
       "      <td>Canada</td>\n",
       "      <td>55781.699027</td>\n",
       "    </tr>\n",
       "    <tr>\n",
       "      <th>14</th>\n",
       "      <td>New Zealand</td>\n",
       "      <td>17</td>\n",
       "      <td>New Zealand</td>\n",
       "      <td>48194.041060</td>\n",
       "    </tr>\n",
       "    <tr>\n",
       "      <th>15</th>\n",
       "      <td>Poland</td>\n",
       "      <td>15</td>\n",
       "      <td>Poland</td>\n",
       "      <td>40462.688712</td>\n",
       "    </tr>\n",
       "    <tr>\n",
       "      <th>16</th>\n",
       "      <td>Sweden</td>\n",
       "      <td>12</td>\n",
       "      <td>Sweden</td>\n",
       "      <td>63375.044646</td>\n",
       "    </tr>\n",
       "    <tr>\n",
       "      <th>17</th>\n",
       "      <td>South Africa</td>\n",
       "      <td>10</td>\n",
       "      <td>South Africa</td>\n",
       "      <td>14172.544251</td>\n",
       "    </tr>\n",
       "    <tr>\n",
       "      <th>18</th>\n",
       "      <td>Switzerland</td>\n",
       "      <td>7</td>\n",
       "      <td>Switzerland</td>\n",
       "      <td>81603.207307</td>\n",
       "    </tr>\n",
       "    <tr>\n",
       "      <th>19</th>\n",
       "      <td>Mexico</td>\n",
       "      <td>7</td>\n",
       "      <td>Mexico</td>\n",
       "      <td>21131.915758</td>\n",
       "    </tr>\n",
       "    <tr>\n",
       "      <th>20</th>\n",
       "      <td>Colombia</td>\n",
       "      <td>7</td>\n",
       "      <td>Colombia</td>\n",
       "      <td>17587.231793</td>\n",
       "    </tr>\n",
       "  </tbody>\n",
       "</table>\n",
       "</div>"
      ],
      "text/plain": [
       "       Nationality  Total_Wins         Country  GDP_per_capita\n",
       "0   United Kingdom         309  United Kingdom    52841.634585\n",
       "1          Germany         162         Germany    61939.651585\n",
       "2           Brazil          87          Brazil    17672.916803\n",
       "3           France          81          France    53834.799297\n",
       "4          Finland          80         Finland    57788.903458\n",
       "5          Belgium          59         Belgium    62123.161317\n",
       "6            Chile          54           Chile    29050.080794\n",
       "7            Italy          43           Italy    49901.612137\n",
       "8        Australia          43       Australia    57406.178760\n",
       "9        Argentina          38       Argentina    26086.802355\n",
       "10         Austria          35         Austria    63421.203587\n",
       "11           Spain          34           Spain    43620.604061\n",
       "12   United States          33   United States    71055.876194\n",
       "13          Canada          26          Canada    55781.699027\n",
       "14     New Zealand          17     New Zealand    48194.041060\n",
       "15          Poland          15          Poland    40462.688712\n",
       "16          Sweden          12          Sweden    63375.044646\n",
       "17    South Africa          10    South Africa    14172.544251\n",
       "18     Switzerland           7     Switzerland    81603.207307\n",
       "19          Mexico           7          Mexico    21131.915758\n",
       "20        Colombia           7        Colombia    17587.231793"
      ]
     },
     "execution_count": 50,
     "metadata": {},
     "output_type": "execute_result"
    }
   ],
   "source": [
    "merged_df['GDP_per_capita'] = pd.to_numeric(merged_df['GDP_per_capita'])\n",
    "filtered_df = merged_df[merged_df['Total_Wins'] > 0]\n",
    "filtered_df"
   ]
  },
  {
   "cell_type": "code",
   "execution_count": 37,
   "id": "4b67b1ff-37e7-4c6b-858e-48bff149b8ab",
   "metadata": {},
   "outputs": [
    {
     "data": {
      "image/png": "[encoded data removed]",
      "text/plain": [
       "<Figure size 1200x800 with 1 Axes>"
      ]
     },
     "metadata": {},
     "output_type": "display_data"
    }
   ],
   "source": [
    "plt.figure(figsize=(12, 8))\n",
    "plt.scatter(filtered_df['GDP_per_capita'], filtered_df['Total_Wins'], color='blue')\n",
    "\n",
    "for i, row in filtered_df.iterrows():\n",
    "    plt.annotate(row['Nationality'], \n",
    "                 (row['GDP_per_capita'], row['Total_Wins']),\n",
    "                 fontsize=9,\n",
    "                 ha='right')\n",
    "\n",
    "plt.title('Victoires par pays en fonction du GDP par habitant')\n",
    "plt.xlabel('GDP par habitant')\n",
    "plt.ylabel('Victoires remportées')\n",
    "plt.xscale('log')\n",
    "plt.grid(True)\n",
    "plt.show()"
   ]
  },
  {
   "cell_type": "code",
   "execution_count": 15,
   "id": "a5fe7c86-c0a1-4d32-890a-e78729079246",
   "metadata": {},
   "outputs": [
    {
     "name": "stdout",
     "output_type": "stream",
     "text": [
      "correlation= 0.17086769251509096\n"
     ]
    }
   ],
   "source": [
    "correlation = merged_df[['GDP_per_capita', 'Total_Wins']].corr().iloc[0, 1]\n",
    "print(\"correlation=\",correlation)"
   ]
  },
  {
   "cell_type": "code",
   "execution_count": 83,
   "id": "ea4d0189-2a4f-48d5-a982-8783b26965bc",
   "metadata": {},
   "outputs": [
    {
     "data": {
      "text/plain": [
       "<function Connection.close()>"
      ]
     },
     "execution_count": 83,
     "metadata": {},
     "output_type": "execute_result"
    }
   ],
   "source": [
    "cn.close"
   ]
  }
 ],
 "metadata": {
  "kernelspec": {
   "display_name": "Python 3 (ipykernel)",
   "language": "python",
   "name": "python3"
  },
  "language_info": {
   "codemirror_mode": {
    "name": "ipython",
    "version": 3
   },
   "file_extension": ".py",
   "mimetype": "text/x-python",
   "name": "python",
   "nbconvert_exporter": "python",
   "pygments_lexer": "ipython3",
   "version": "3.11.8"
  }
 },
 "nbformat": 4,
 "nbformat_minor": 5
}
