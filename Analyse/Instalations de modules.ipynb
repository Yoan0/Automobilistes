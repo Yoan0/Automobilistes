{
 "cells": [
  {
   "cell_type": "code",
   "execution_count": 20,
   "id": "b2004741-13fd-4430-979d-ea90345b0d16",
   "metadata": {},
   "outputs": [
    {
     "name": "stdout",
     "output_type": "stream",
     "text": [
      "Collecting plotly\n",
      "  Downloading plotly-5.24.0-py3-none-any.whl.metadata (7.3 kB)\n",
      "Collecting tenacity>=6.2.0 (from plotly)\n",
      "  Downloading tenacity-9.0.0-py3-none-any.whl.metadata (1.2 kB)\n",
      "Requirement already satisfied: packaging in c:\\users\\yoan vicente\\miniconda3\\envs\\env_jupyterlab\\lib\\site-packages (from plotly) (24.0)\n",
      "Downloading plotly-5.24.0-py3-none-any.whl (19.0 MB)\n",
      "   ---------------------------------------- 0.0/19.0 MB ? eta -:--:--\n",
      "   ---------------------------------------- 0.0/19.0 MB ? eta -:--:--\n",
      "   ---------------------------------------- 0.0/19.0 MB ? eta -:--:--\n",
      "   ---------------------------------------- 0.1/19.0 MB 1.4 MB/s eta 0:00:14\n",
      "   -- ------------------------------------- 1.2/19.0 MB 9.4 MB/s eta 0:00:02\n",
      "   ------- -------------------------------- 3.5/19.0 MB 20.5 MB/s eta 0:00:01\n",
      "   ------------ --------------------------- 5.8/19.0 MB 26.5 MB/s eta 0:00:01\n",
      "   ----------------- ---------------------- 8.3/19.0 MB 33.3 MB/s eta 0:00:01\n",
      "   ---------------------- ----------------- 10.9/19.0 MB 54.4 MB/s eta 0:00:01\n",
      "   --------------------------- ------------ 13.3/19.0 MB 50.4 MB/s eta 0:00:01\n",
      "   -------------------------------- ------- 15.5/19.0 MB 46.7 MB/s eta 0:00:01\n",
      "   ------------------------------------- -- 17.9/19.0 MB 50.4 MB/s eta 0:00:01\n",
      "   ---------------------------------------  19.0/19.0 MB 46.7 MB/s eta 0:00:01\n",
      "   ---------------------------------------  19.0/19.0 MB 46.7 MB/s eta 0:00:01\n",
      "   ---------------------------------------- 19.0/19.0 MB 31.1 MB/s eta 0:00:00\n",
      "Downloading tenacity-9.0.0-py3-none-any.whl (28 kB)\n",
      "Installing collected packages: tenacity, plotly\n",
      "Successfully installed plotly-5.24.0 tenacity-9.0.0\n"
     ]
    }
   ],
   "source": [
    "!pip install plotly"
   ]
  },
  {
   "cell_type": "code",
   "execution_count": 22,
   "id": "70fe6f2b-b7f9-4e6f-af65-8881656cd190",
   "metadata": {},
   "outputs": [
    {
     "name": "stdout",
     "output_type": "stream",
     "text": [
      "Collecting pandas\n",
      "  Downloading pandas-2.2.2-cp311-cp311-win_amd64.whl.metadata (19 kB)\n",
      "Collecting numpy>=1.23.2 (from pandas)\n",
      "  Downloading numpy-2.1.0-cp311-cp311-win_amd64.whl.metadata (59 kB)\n",
      "     ---------------------------------------- 0.0/59.7 kB ? eta -:--:--\n",
      "     -------------------- ------------------- 30.7/59.7 kB 1.3 MB/s eta 0:00:01\n",
      "     ---------------------------------------- 59.7/59.7 kB 1.1 MB/s eta 0:00:00\n",
      "Requirement already satisfied: python-dateutil>=2.8.2 in c:\\users\\yoan vicente\\miniconda3\\envs\\env_jupyterlab\\lib\\site-packages (from pandas) (2.9.0)\n",
      "Requirement already satisfied: pytz>=2020.1 in c:\\users\\yoan vicente\\miniconda3\\envs\\env_jupyterlab\\lib\\site-packages (from pandas) (2024.1)\n",
      "Collecting tzdata>=2022.7 (from pandas)\n",
      "  Downloading tzdata-2024.1-py2.py3-none-any.whl.metadata (1.4 kB)\n",
      "Requirement already satisfied: six>=1.5 in c:\\users\\yoan vicente\\miniconda3\\envs\\env_jupyterlab\\lib\\site-packages (from python-dateutil>=2.8.2->pandas) (1.16.0)\n",
      "Downloading pandas-2.2.2-cp311-cp311-win_amd64.whl (11.6 MB)\n",
      "   ---------------------------------------- 0.0/11.6 MB ? eta -:--:--\n",
      "   - -------------------------------------- 0.4/11.6 MB 13.9 MB/s eta 0:00:01\n",
      "   -------- ------------------------------- 2.4/11.6 MB 37.8 MB/s eta 0:00:01\n",
      "   ---------------- ----------------------- 4.8/11.6 MB 44.2 MB/s eta 0:00:01\n",
      "   ----------------------- ---------------- 6.7/11.6 MB 43.1 MB/s eta 0:00:01\n",
      "   ------------------------------ --------- 8.9/11.6 MB 47.4 MB/s eta 0:00:01\n",
      "   ------------------------------------ --- 10.7/11.6 MB 50.4 MB/s eta 0:00:01\n",
      "   ---------------------------------------  11.6/11.6 MB 54.4 MB/s eta 0:00:01\n",
      "   ---------------------------------------  11.6/11.6 MB 54.4 MB/s eta 0:00:01\n",
      "   ---------------------------------------- 11.6/11.6 MB 38.4 MB/s eta 0:00:00\n",
      "Downloading numpy-2.1.0-cp311-cp311-win_amd64.whl (12.9 MB)\n",
      "   ---------------------------------------- 0.0/12.9 MB ? eta -:--:--\n",
      "   ------- -------------------------------- 2.3/12.9 MB 75.0 MB/s eta 0:00:01\n",
      "   -------------- ------------------------- 4.8/12.9 MB 61.3 MB/s eta 0:00:01\n",
      "   -------------------- ------------------- 6.5/12.9 MB 59.6 MB/s eta 0:00:01\n",
      "   ------------------------- -------------- 8.2/12.9 MB 52.6 MB/s eta 0:00:01\n",
      "   ------------------------------- -------- 10.2/12.9 MB 54.6 MB/s eta 0:00:01\n",
      "   ------------------------------------- -- 12.2/12.9 MB 46.9 MB/s eta 0:00:01\n",
      "   ---------------------------------------  12.9/12.9 MB 46.7 MB/s eta 0:00:01\n",
      "   ---------------------------------------  12.9/12.9 MB 46.7 MB/s eta 0:00:01\n",
      "   ---------------------------------------- 12.9/12.9 MB 34.4 MB/s eta 0:00:00\n",
      "Downloading tzdata-2024.1-py2.py3-none-any.whl (345 kB)\n",
      "   ---------------------------------------- 0.0/345.4 kB ? eta -:--:--\n",
      "   --------------------------------------- 345.4/345.4 kB 22.3 MB/s eta 0:00:00\n",
      "Installing collected packages: tzdata, numpy, pandas\n",
      "Successfully installed numpy-2.1.0 pandas-2.2.2 tzdata-2024.1\n"
     ]
    }
   ],
   "source": [
    "!pip install pandas"
   ]
  },
  {
   "cell_type": "code",
   "execution_count": 23,
   "id": "1146521d-f955-42d9-8291-ccb88853d825",
   "metadata": {},
   "outputs": [
    {
     "name": "stdout",
     "output_type": "stream",
     "text": [
      "Collecting matplotlib\n",
      "  Downloading matplotlib-3.9.2-cp311-cp311-win_amd64.whl.metadata (11 kB)\n",
      "Collecting contourpy>=1.0.1 (from matplotlib)\n",
      "  Downloading contourpy-1.3.0-cp311-cp311-win_amd64.whl.metadata (5.4 kB)\n",
      "Collecting cycler>=0.10 (from matplotlib)\n",
      "  Downloading cycler-0.12.1-py3-none-any.whl.metadata (3.8 kB)\n",
      "Collecting fonttools>=4.22.0 (from matplotlib)\n",
      "  Downloading fonttools-4.53.1-cp311-cp311-win_amd64.whl.metadata (165 kB)\n",
      "     ---------------------------------------- 0.0/165.9 kB ? eta -:--:--\n",
      "     ------ ------------------------------ 30.7/165.9 kB 660.6 kB/s eta 0:00:01\n",
      "     -------------------------------------- 165.9/165.9 kB 2.0 MB/s eta 0:00:00\n",
      "Collecting kiwisolver>=1.3.1 (from matplotlib)\n",
      "  Downloading kiwisolver-1.4.5-cp311-cp311-win_amd64.whl.metadata (6.5 kB)\n",
      "Requirement already satisfied: numpy>=1.23 in c:\\users\\yoan vicente\\miniconda3\\envs\\env_jupyterlab\\lib\\site-packages (from matplotlib) (2.1.0)\n",
      "Requirement already satisfied: packaging>=20.0 in c:\\users\\yoan vicente\\miniconda3\\envs\\env_jupyterlab\\lib\\site-packages (from matplotlib) (24.0)\n",
      "Collecting pillow>=8 (from matplotlib)\n",
      "  Downloading pillow-10.4.0-cp311-cp311-win_amd64.whl.metadata (9.3 kB)\n",
      "Collecting pyparsing>=2.3.1 (from matplotlib)\n",
      "  Downloading pyparsing-3.1.4-py3-none-any.whl.metadata (5.1 kB)\n",
      "Requirement already satisfied: python-dateutil>=2.7 in c:\\users\\yoan vicente\\miniconda3\\envs\\env_jupyterlab\\lib\\site-packages (from matplotlib) (2.9.0)\n",
      "Requirement already satisfied: six>=1.5 in c:\\users\\yoan vicente\\miniconda3\\envs\\env_jupyterlab\\lib\\site-packages (from python-dateutil>=2.7->matplotlib) (1.16.0)\n",
      "Downloading matplotlib-3.9.2-cp311-cp311-win_amd64.whl (7.8 MB)\n",
      "   ---------------------------------------- 0.0/7.8 MB ? eta -:--:--\n",
      "   ------ --------------------------------- 1.2/7.8 MB 25.7 MB/s eta 0:00:01\n",
      "   ----------------- ---------------------- 3.5/7.8 MB 37.3 MB/s eta 0:00:01\n",
      "   ---------------------------- ----------- 5.5/7.8 MB 38.9 MB/s eta 0:00:01\n",
      "   ---------------------------------------  7.8/7.8 MB 41.8 MB/s eta 0:00:01\n",
      "   ---------------------------------------  7.8/7.8 MB 41.8 MB/s eta 0:00:01\n",
      "   ---------------------------------------- 7.8/7.8 MB 31.3 MB/s eta 0:00:00\n",
      "Downloading contourpy-1.3.0-cp311-cp311-win_amd64.whl (217 kB)\n",
      "   ---------------------------------------- 0.0/217.2 kB ? eta -:--:--\n",
      "   --------------------------------------- 217.2/217.2 kB 13.8 MB/s eta 0:00:00\n",
      "Downloading cycler-0.12.1-py3-none-any.whl (8.3 kB)\n",
      "Downloading fonttools-4.53.1-cp311-cp311-win_amd64.whl (2.2 MB)\n",
      "   ---------------------------------------- 0.0/2.2 MB ? eta -:--:--\n",
      "   ---------------------------------------  2.2/2.2 MB 68.5 MB/s eta 0:00:01\n",
      "   ---------------------------------------- 2.2/2.2 MB 46.7 MB/s eta 0:00:00\n",
      "Downloading kiwisolver-1.4.5-cp311-cp311-win_amd64.whl (56 kB)\n",
      "   ---------------------------------------- 0.0/56.1 kB ? eta -:--:--\n",
      "   ---------------------------------------- 56.1/56.1 kB 2.9 MB/s eta 0:00:00\n",
      "Downloading pillow-10.4.0-cp311-cp311-win_amd64.whl (2.6 MB)\n",
      "   ---------------------------------------- 0.0/2.6 MB ? eta -:--:--\n",
      "   ---------------------------------------  2.5/2.6 MB 79.4 MB/s eta 0:00:01\n",
      "   ---------------------------------------- 2.6/2.6 MB 40.4 MB/s eta 0:00:00\n",
      "Downloading pyparsing-3.1.4-py3-none-any.whl (104 kB)\n",
      "   ---------------------------------------- 0.0/104.1 kB ? eta -:--:--\n",
      "   ---------------------------------------- 104.1/104.1 kB 2.9 MB/s eta 0:00:00\n",
      "Installing collected packages: pyparsing, pillow, kiwisolver, fonttools, cycler, contourpy, matplotlib\n",
      "Successfully installed contourpy-1.3.0 cycler-0.12.1 fonttools-4.53.1 kiwisolver-1.4.5 matplotlib-3.9.2 pillow-10.4.0 pyparsing-3.1.4\n"
     ]
    }
   ],
   "source": [
    "!pip install matplotlib"
   ]
  },
  {
   "cell_type": "code",
   "execution_count": 25,
   "id": "d091339c-3e44-46b7-b0ad-aea99747f365",
   "metadata": {},
   "outputs": [
    {
     "name": "stdout",
     "output_type": "stream",
     "text": [
      "Collecting scipy\n",
      "  Downloading scipy-1.14.1-cp311-cp311-win_amd64.whl.metadata (60 kB)\n",
      "     ---------------------------------------- 0.0/60.8 kB ? eta -:--:--\n",
      "     ------------ ------------------------- 20.5/60.8 kB 320.0 kB/s eta 0:00:01\n",
      "     -------------------------------- ----- 51.2/60.8 kB 435.7 kB/s eta 0:00:01\n",
      "     -------------------------------------- 60.8/60.8 kB 358.4 kB/s eta 0:00:00\n",
      "Requirement already satisfied: numpy<2.3,>=1.23.5 in c:\\users\\yoan vicente\\miniconda3\\envs\\env_jupyterlab\\lib\\site-packages (from scipy) (2.1.0)\n",
      "Downloading scipy-1.14.1-cp311-cp311-win_amd64.whl (44.8 MB)\n",
      "   ---------------------------------------- 0.0/44.8 MB ? eta -:--:--\n",
      "   ---------------------------------------- 0.3/44.8 MB 8.9 MB/s eta 0:00:05\n",
      "   - -------------------------------------- 2.1/44.8 MB 22.2 MB/s eta 0:00:02\n",
      "   ---- ----------------------------------- 4.5/44.8 MB 32.2 MB/s eta 0:00:02\n",
      "   ------ --------------------------------- 7.2/44.8 MB 41.8 MB/s eta 0:00:01\n",
      "   -------- ------------------------------- 9.8/44.8 MB 42.0 MB/s eta 0:00:01\n",
      "   ---------- ----------------------------- 12.3/44.8 MB 59.5 MB/s eta 0:00:01\n",
      "   ------------- -------------------------- 14.9/44.8 MB 54.7 MB/s eta 0:00:01\n",
      "   --------------- ------------------------ 17.4/44.8 MB 50.4 MB/s eta 0:00:01\n",
      "   ----------------- ---------------------- 19.9/44.8 MB 54.7 MB/s eta 0:00:01\n",
      "   -------------------- ------------------- 22.5/44.8 MB 50.4 MB/s eta 0:00:01\n",
      "   ---------------------- ----------------- 24.9/44.8 MB 50.4 MB/s eta 0:00:01\n",
      "   ------------------------ --------------- 27.4/44.8 MB 50.1 MB/s eta 0:00:01\n",
      "   -------------------------- ------------- 30.0/44.8 MB 50.4 MB/s eta 0:00:01\n",
      "   ----------------------------- ---------- 32.9/44.8 MB 54.7 MB/s eta 0:00:01\n",
      "   -------------------------------- ------- 36.1/44.8 MB 59.5 MB/s eta 0:00:01\n",
      "   ---------------------------------- ----- 38.3/44.8 MB 59.5 MB/s eta 0:00:01\n",
      "   ----------------------------------- ---- 39.7/44.8 MB 59.5 MB/s eta 0:00:01\n",
      "   -------------------------------------- - 43.2/44.8 MB 50.4 MB/s eta 0:00:01\n",
      "   ---------------------------------------  44.8/44.8 MB 50.4 MB/s eta 0:00:01\n",
      "   ---------------------------------------  44.8/44.8 MB 50.4 MB/s eta 0:00:01\n",
      "   ---------------------------------------  44.8/44.8 MB 50.4 MB/s eta 0:00:01\n",
      "   ---------------------------------------  44.8/44.8 MB 50.4 MB/s eta 0:00:01\n",
      "   ---------------------------------------- 44.8/44.8 MB 26.1 MB/s eta 0:00:00\n",
      "Installing collected packages: scipy\n",
      "Successfully installed scipy-1.14.1\n"
     ]
    }
   ],
   "source": [
    "!pip install scipy"
   ]
  },
  {
   "cell_type": "code",
   "execution_count": 1,
   "id": "7d243c24-8432-429a-b7fe-c04e251dc662",
   "metadata": {},
   "outputs": [
    {
     "name": "stdout",
     "output_type": "stream",
     "text": [
      "Collecting seaborn\n",
      "  Downloading seaborn-0.13.2-py3-none-any.whl.metadata (5.4 kB)\n",
      "Requirement already satisfied: numpy!=1.24.0,>=1.20 in c:\\users\\yoan vicente\\miniconda3\\envs\\env_jupyterlab\\lib\\site-packages (from seaborn) (2.1.0)\n",
      "Requirement already satisfied: pandas>=1.2 in c:\\users\\yoan vicente\\miniconda3\\envs\\env_jupyterlab\\lib\\site-packages (from seaborn) (2.2.2)\n",
      "Requirement already satisfied: matplotlib!=3.6.1,>=3.4 in c:\\users\\yoan vicente\\miniconda3\\envs\\env_jupyterlab\\lib\\site-packages (from seaborn) (3.9.2)\n",
      "Requirement already satisfied: contourpy>=1.0.1 in c:\\users\\yoan vicente\\miniconda3\\envs\\env_jupyterlab\\lib\\site-packages (from matplotlib!=3.6.1,>=3.4->seaborn) (1.3.0)\n",
      "Requirement already satisfied: cycler>=0.10 in c:\\users\\yoan vicente\\miniconda3\\envs\\env_jupyterlab\\lib\\site-packages (from matplotlib!=3.6.1,>=3.4->seaborn) (0.12.1)\n",
      "Requirement already satisfied: fonttools>=4.22.0 in c:\\users\\yoan vicente\\miniconda3\\envs\\env_jupyterlab\\lib\\site-packages (from matplotlib!=3.6.1,>=3.4->seaborn) (4.53.1)\n",
      "Requirement already satisfied: kiwisolver>=1.3.1 in c:\\users\\yoan vicente\\miniconda3\\envs\\env_jupyterlab\\lib\\site-packages (from matplotlib!=3.6.1,>=3.4->seaborn) (1.4.5)\n",
      "Requirement already satisfied: packaging>=20.0 in c:\\users\\yoan vicente\\miniconda3\\envs\\env_jupyterlab\\lib\\site-packages (from matplotlib!=3.6.1,>=3.4->seaborn) (24.0)\n",
      "Requirement already satisfied: pillow>=8 in c:\\users\\yoan vicente\\miniconda3\\envs\\env_jupyterlab\\lib\\site-packages (from matplotlib!=3.6.1,>=3.4->seaborn) (10.4.0)\n",
      "Requirement already satisfied: pyparsing>=2.3.1 in c:\\users\\yoan vicente\\miniconda3\\envs\\env_jupyterlab\\lib\\site-packages (from matplotlib!=3.6.1,>=3.4->seaborn) (3.1.4)\n",
      "Requirement already satisfied: python-dateutil>=2.7 in c:\\users\\yoan vicente\\miniconda3\\envs\\env_jupyterlab\\lib\\site-packages (from matplotlib!=3.6.1,>=3.4->seaborn) (2.9.0)\n",
      "Requirement already satisfied: pytz>=2020.1 in c:\\users\\yoan vicente\\miniconda3\\envs\\env_jupyterlab\\lib\\site-packages (from pandas>=1.2->seaborn) (2024.1)\n",
      "Requirement already satisfied: tzdata>=2022.7 in c:\\users\\yoan vicente\\miniconda3\\envs\\env_jupyterlab\\lib\\site-packages (from pandas>=1.2->seaborn) (2024.1)\n",
      "Requirement already satisfied: six>=1.5 in c:\\users\\yoan vicente\\miniconda3\\envs\\env_jupyterlab\\lib\\site-packages (from python-dateutil>=2.7->matplotlib!=3.6.1,>=3.4->seaborn) (1.16.0)\n",
      "Downloading seaborn-0.13.2-py3-none-any.whl (294 kB)\n",
      "   ---------------------------------------- 0.0/294.9 kB ? eta -:--:--\n",
      "   ---------------------------------------- 0.0/294.9 kB ? eta -:--:--\n",
      "   - -------------------------------------- 10.2/294.9 kB ? eta -:--:--\n",
      "   ---- ---------------------------------- 30.7/294.9 kB 262.6 kB/s eta 0:00:02\n",
      "   -------- ------------------------------ 61.4/294.9 kB 409.6 kB/s eta 0:00:01\n",
      "   --------------- ---------------------- 122.9/294.9 kB 654.9 kB/s eta 0:00:01\n",
      "   ------------------------- ------------ 194.6/294.9 kB 784.3 kB/s eta 0:00:01\n",
      "   ----------------------------------- -- 276.5/294.9 kB 947.5 kB/s eta 0:00:01\n",
      "   -------------------------------------- 294.9/294.9 kB 827.5 kB/s eta 0:00:00\n",
      "Installing collected packages: seaborn\n",
      "Successfully installed seaborn-0.13.2\n"
     ]
    }
   ],
   "source": [
    "!pip install seaborn"
   ]
  }
 ],
 "metadata": {
  "kernelspec": {
   "display_name": "Python 3 (ipykernel)",
   "language": "python",
   "name": "python3"
  },
  "language_info": {
   "codemirror_mode": {
    "name": "ipython",
    "version": 3
   },
   "file_extension": ".py",
   "mimetype": "text/x-python",
   "name": "python",
   "nbconvert_exporter": "python",
   "pygments_lexer": "ipython3",
   "version": "3.11.8"
  }
 },
 "nbformat": 4,
 "nbformat_minor": 5
}
